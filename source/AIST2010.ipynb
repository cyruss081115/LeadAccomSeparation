{
  "nbformat": 4,
  "nbformat_minor": 0,
  "metadata": {
    "colab": {
      "provenance": [],
      "gpuType": "T4"
    },
    "kernelspec": {
      "name": "python3",
      "display_name": "Python 3"
    },
    "language_info": {
      "name": "python"
    },
    "accelerator": "GPU"
  },
  "cells": [
    {
      "cell_type": "markdown",
      "source": [
        "Install dependencies."
      ],
      "metadata": {
        "id": "tnKurSW2V-_E"
      }
    },
    {
      "cell_type": "code",
      "execution_count": null,
      "metadata": {
        "colab": {
          "base_uri": "https://localhost:8080/"
        },
        "id": "rx7YySBVXGQb",
        "outputId": "e8fbf56f-9877-461f-ac48-df43297f6dc9"
      },
      "outputs": [
        {
          "output_type": "stream",
          "name": "stdout",
          "text": [
            "  Installing build dependencies ... \u001b[?25l\u001b[?25hdone\n",
            "  Getting requirements to build wheel ... \u001b[?25l\u001b[?25hdone\n",
            "  Preparing metadata (pyproject.toml) ... \u001b[?25l\u001b[?25hdone\n"
          ]
        }
      ],
      "source": [
        "!pip install -q musdb museval\n",
        "!pip install -q git+https://github.com/shi0rik0/open-unmix-pytorch.git"
      ]
    },
    {
      "cell_type": "code",
      "source": [
        "import musdb\n",
        "import museval\n",
        "import openunmix\n",
        "import numpy as np\n",
        "import torch"
      ],
      "metadata": {
        "id": "bhSHsK6TWhpb"
      },
      "execution_count": null,
      "outputs": []
    },
    {
      "cell_type": "markdown",
      "source": [
        "Get the train set, validation set and test set of MUSDB."
      ],
      "metadata": {
        "id": "eRtjOvL-WPYm"
      }
    },
    {
      "cell_type": "code",
      "source": [
        "mus_train = musdb.DB(subsets=\"train\", split='train', download=True)\n",
        "mus_valid = musdb.DB(subsets=\"train\", split='valid', download=True)\n",
        "mus_test = musdb.DB(subsets=\"test\", download=True)"
      ],
      "metadata": {
        "id": "e0kvWejPXgoV"
      },
      "execution_count": null,
      "outputs": []
    },
    {
      "cell_type": "code",
      "source": [
        "sampling_rate = mus_train[0].rate # 44100\n",
        "device = 'cuda' if torch.cuda.is_available() else 'cpu'"
      ],
      "metadata": {
        "id": "2ysxnZhgWive"
      },
      "execution_count": null,
      "outputs": []
    },
    {
      "cell_type": "markdown",
      "source": [
        "This code block shows how to retrieve the audio from the dataset."
      ],
      "metadata": {
        "id": "4XlWQWNnjSuQ"
      }
    },
    {
      "cell_type": "code",
      "source": [
        "mus_train[0].audio # mixture\n",
        "mus_train[0].targets['vocals'].audio # vocals\n",
        "mus_train[0].targets['accompaniment'].audio # accompaniment"
      ],
      "metadata": {
        "colab": {
          "base_uri": "https://localhost:8080/"
        },
        "id": "J_qXwsbUYdjK",
        "outputId": "1c40ad5d-32e0-4025-d864-d841b8fb4a02"
      },
      "execution_count": null,
      "outputs": [
        {
          "output_type": "execute_result",
          "data": {
            "text/plain": [
              "array([[-0.04733276, -0.03793335],\n",
              "       [-0.05758667, -0.05212402],\n",
              "       [-0.04681396, -0.05422974],\n",
              "       ...,\n",
              "       [ 0.00241089,  0.00057983],\n",
              "       [ 0.00244141,  0.00057983],\n",
              "       [ 0.00231934,  0.00036621]])"
            ]
          },
          "metadata": {},
          "execution_count": 5
        }
      ]
    },
    {
      "cell_type": "markdown",
      "source": [
        "A helper function that gets the SDR of the estimations."
      ],
      "metadata": {
        "id": "xjxBcmg7kMdU"
      }
    },
    {
      "cell_type": "code",
      "source": [
        "def eval_track(track, vocals, accompaniment):\n",
        "  estimates = {\n",
        "    'vocals': vocals,\n",
        "    'accompaniment': accompaniment\n",
        "  }\n",
        "  scores = museval.eval_mus_track(track, estimates).scores\n",
        "  sdr = {i['name']: np.median([j['metrics']['SDR'] for j in i['frames']]) for i in scores['targets']}\n",
        "  return sdr"
      ],
      "metadata": {
        "id": "-rtDhLlDc5D-"
      },
      "execution_count": null,
      "outputs": []
    },
    {
      "cell_type": "markdown",
      "source": [
        "UMX is the default model provided by open-unmix. It's our baseline model."
      ],
      "metadata": {
        "id": "8CKaPg0Jke1b"
      }
    },
    {
      "cell_type": "code",
      "source": [
        "def load_umx():\n",
        "  separator = openunmix.umx(device=device)\n",
        "  return separator\n",
        "\n",
        "def predict_umx(separator, track):\n",
        "  result = separator(torch.as_tensor(track.audio.T[None, ...], device=device).float())\n",
        "  vocals = result[0,0,:,:].detach().cpu().numpy().T\n",
        "  accom = track.audio - vocals\n",
        "  return {'vocals': vocals, 'accompaniment': accom}"
      ],
      "metadata": {
        "id": "BsJabR2WeAlA"
      },
      "execution_count": null,
      "outputs": []
    },
    {
      "cell_type": "code",
      "source": [
        "sdr_vocals = []\n",
        "sdr_accompaniment = []\n",
        "umx = load_umx()\n",
        "for track in mus_test:\n",
        "  prediction = predict_umx(umx, track)\n",
        "  sdr = eval_track(track, prediction['vocals'], prediction['accompaniment'])\n",
        "  sdr_vocals.append(sdr['vocals'])\n",
        "  sdr_accompaniment.append(sdr['accompaniment'])\n",
        "sdr_vocals = np.median(sdr_vocals)\n",
        "sdr_accompaniment = np.median(sdr_accompaniment)\n",
        "print('The scores of UMX:')\n",
        "print('vocals:', sdr_vocals)\n",
        "print('acccompaniment:', sdr_accompaniment)"
      ],
      "metadata": {
        "colab": {
          "base_uri": "https://localhost:8080/"
        },
        "id": "MgYyw2NTVoT-",
        "outputId": "42040120-2bd0-43ff-edf0-c1ea0d0d1989"
      },
      "execution_count": null,
      "outputs": [
        {
          "output_type": "stream",
          "name": "stdout",
          "text": [
            "The scores of UMX:\n",
            "vocals: 7.1481625\n",
            "acccompaniment: 11.6912075\n"
          ]
        }
      ]
    }
  ]
}